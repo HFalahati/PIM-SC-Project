{
 "cells": [
  {
   "cell_type": "code",
   "execution_count": 66,
   "metadata": {},
   "outputs": [],
   "source": [
    "import os\n",
    "import torch\n",
    "import torch.nn as nn\n",
    "from layers import *\n",
    "import numpy as np"
   ]
  },
  {
   "cell_type": "code",
   "execution_count": 67,
   "metadata": {},
   "outputs": [],
   "source": [
    "original_dict = torch.load(\"weights/original.ckpt\", map_location='cpu')\n",
    "quantized_dict = torch.load(\"weights/quantized.ckpt\", map_location='cpu')"
   ]
  },
  {
   "cell_type": "code",
   "execution_count": 60,
   "metadata": {},
   "outputs": [],
   "source": [
    "flattened_layers_q_ok=[]\n",
    "for i in keys_list_q_ok:\n",
    "    flattened_layers_q_ok.append(quantized_dict[i].flatten().tolist())\n",
    "    \n",
    "    \n",
    "flattened_layers_o_ok=[]\n",
    "for i in keys_list_q_ok:\n",
    "    flattened_layers_o_ok.append(original_dict[i].flatten().tolist())"
   ]
  },
  {
   "cell_type": "code",
   "execution_count": 61,
   "metadata": {},
   "outputs": [],
   "source": [
    "flattened_q_unique_ok=[]\n",
    "for i in keys_list_q_ok:\n",
    "    flattened_q_unique_ok.append(quantized_dict[i].flatten().unique().tolist())\n",
    "    \n",
    "\n",
    "flattened_o_unique_ok=[]\n",
    "for i in keys_list_q_ok:\n",
    "    flattened_o_unique_ok.append(original_dict[i].flatten().unique().tolist())"
   ]
  },
  {
   "cell_type": "code",
   "execution_count": 62,
   "metadata": {},
   "outputs": [],
   "source": [
    "def CountFrequency(my_list): \n",
    "  \n",
    "    freq = {} \n",
    "    for item in my_list: \n",
    "        if (item in freq): \n",
    "            freq[item] += 1\n",
    "        else: \n",
    "            freq[item] = 1\n",
    "  \n",
    "\n",
    "    return freq.items()   "
   ]
  },
  {
   "cell_type": "code",
   "execution_count": 63,
   "metadata": {},
   "outputs": [],
   "source": [
    "list_q_freqs=[]\n",
    "for i in range(len(flattened_layers_q_ok)):\n",
    "    list_q_freqs.append(CountFrequency(flattened_layers_q_ok[i]))\n",
    "    \n",
    "\n",
    "list_o_freqs=[]\n",
    "for i in range(len(flattened_layers_o_ok)):\n",
    "    list_o_freqs.append(CountFrequency(flattened_layers_o_ok[i]))"
   ]
  },
  {
   "cell_type": "code",
   "execution_count": 92,
   "metadata": {},
   "outputs": [],
   "source": [
    "max_of_each_layer_q=[]\n",
    "min_of_each_layer_q=[]\n",
    "max_min_layers_q={}\n",
    "\n",
    "for i in list_q_freqs:\n",
    "    max_of_each_layer_q.append(max(i)[0])\n",
    "    min_of_each_layer_q.append(min(i)[0])\n",
    "    \n",
    "max_all_q = max(max_of_each_layer_q)\n",
    "min_all_q = min(min_of_each_layer_q)\n",
    "\n",
    "for i in range(len(keys_list_q_ok)):\n",
    "    max_min_layers_q[keys_list_q_ok[i]]=[max_of_each_layer_q[i],min_of_each_layer_q[i]]\n",
    "    \n",
    "\n",
    "    \n",
    "\n",
    "max_of_each_layer_o=[]\n",
    "min_of_each_layer_o=[]\n",
    "max_min_layers_o={}\n",
    "\n",
    "for i in list_o_freqs:\n",
    "    max_of_each_layer_o.append(max(i)[0])\n",
    "    min_of_each_layer_o.append(min(i)[0])\n",
    "    \n",
    "max_all_o = max(max_of_each_layer_o)\n",
    "min_all_o = min(min_of_each_layer_o)\n",
    "\n",
    "for i in range(len(keys_list_q_ok)):\n",
    "    max_min_layers_o[keys_list_q_ok[i]]=[max_of_each_layer_o[i],min_of_each_layer_o[i]]"
   ]
  },
  {
   "cell_type": "code",
   "execution_count": 99,
   "metadata": {},
   "outputs": [
    {
     "name": "stdout",
     "output_type": "stream",
     "text": [
      "max of all layers in quantized mode is : 1.077396035194397\n",
      "min of all layers in quantized mode is : -1.2209237813949585\n",
      "max of all layers in original mode is : 0.6469533443450928\n",
      "min of all layers in original mode is : -1.4352339506149292\n"
     ]
    }
   ],
   "source": [
    "print(\"max of all layers in quantized mode is : {}\".format(max_all_q))\n",
    "print(\"min of all layers in quantized mode is : {}\".format(min_all_q))\n",
    "\n",
    "print(\"max of all layers in original mode is : {}\".format(max_all_o))\n",
    "print(\"min of all layers in original mode is : {}\".format(min_all_o))"
   ]
  },
  {
   "cell_type": "code",
   "execution_count": 107,
   "metadata": {},
   "outputs": [
    {
     "name": "stdout",
     "output_type": "stream",
     "text": [
      "quantized weights of each layer with max and min : \n",
      "\n",
      "conv1.conv.weight [0.9991078972816467, -0.7665005326271057]\n",
      "conv2.conv.weight [0.9913563132286072, -0.8940011262893677]\n",
      "conv3.conv.weight [0.9841355085372925, -0.927638053894043]\n",
      "inception3a.branch1.conv.weight [0.9772062301635742, -0.9832115769386292]\n",
      "inception3a.branch2.0.conv.weight [1.077396035194397, -0.9179155826568604]\n",
      "inception3a.branch2.1.conv.weight [0.5846793055534363, -0.6504532098770142]\n",
      "inception3a.branch3.0.conv.weight [1.005631923675537, -0.9815406799316406]\n",
      "inception3a.branch3.1.conv.weight [0.39764273166656494, -0.572403609752655]\n",
      "inception3a.branch4.1.conv.weight [0.6078271865844727, -0.6620467305183411]\n",
      "inception3b.branch1.conv.weight [0.9957395195960999, -0.987971305847168]\n",
      "inception3b.branch2.0.conv.weight [1.0254321098327637, -0.9944554567337036]\n",
      "inception3b.branch2.1.conv.weight [0.5552408695220947, -0.5816830992698669]\n",
      "inception3b.branch3.0.conv.weight [1.0232073068618774, -1.0157535076141357]\n",
      "inception3b.branch3.1.conv.weight [0.5325000882148743, -0.4815225303173065]\n",
      "inception3b.branch4.1.conv.weight [0.5083701610565186, -0.4963322579860687]\n",
      "inception4a.branch1.conv.weight [0.980629563331604, -0.9798964262008667]\n",
      "inception4a.branch2.0.conv.weight [1.0037399530410767, -1.0104002952575684]\n",
      "inception4a.branch2.1.conv.weight [0.37910178303718567, -0.5226336717605591]\n",
      "inception4a.branch3.0.conv.weight [1.0033048391342163, -1.0002295970916748]\n",
      "inception4a.branch3.1.conv.weight [0.30684420466423035, -0.2661520838737488]\n",
      "inception4a.branch4.1.conv.weight [0.4224298894405365, -0.49871885776519775]\n",
      "inception4b.branch1.conv.weight [1.0155384540557861, -1.017208218574524]\n",
      "inception4b.branch2.0.conv.weight [0.9940805435180664, -1.0217422246932983]\n",
      "inception4b.branch2.1.conv.weight [0.37542036175727844, -0.35993656516075134]\n",
      "inception4b.branch3.0.conv.weight [1.0110585689544678, -1.0146783590316772]\n",
      "inception4b.branch3.1.conv.weight [0.25681182742118835, -0.30683255195617676]\n",
      "inception4b.branch4.1.conv.weight [0.3570295572280884, -0.29903215169906616]\n",
      "inception4c.branch1.conv.weight [0.9833603501319885, -0.9880006313323975]\n",
      "inception4c.branch2.0.conv.weight [0.9938738942146301, -1.0074505805969238]\n",
      "inception4c.branch2.1.conv.weight [0.37313446402549744, -0.4826977849006653]\n",
      "inception4c.branch3.0.conv.weight [1.0148348808288574, -1.019387125968933]\n",
      "inception4c.branch3.1.conv.weight [0.29340359568595886, -0.44078585505485535]\n",
      "inception4c.branch4.1.conv.weight [0.40755295753479004, -0.1971542090177536]\n",
      "inception4d.branch1.conv.weight [1.0127488374710083, -1.013408899307251]\n",
      "inception4d.branch2.0.conv.weight [1.0154008865356445, -1.0161089897155762]\n",
      "inception4d.branch2.1.conv.weight [0.39433711767196655, -0.6518674492835999]\n",
      "inception4d.branch3.0.conv.weight [0.9919310212135315, -1.0101943016052246]\n",
      "inception4d.branch3.1.conv.weight [0.287624329328537, -0.36188745498657227]\n",
      "inception4d.branch4.1.conv.weight [0.24072265625, -0.5077671408653259]\n",
      "inception4e.branch1.conv.weight [0.9801579117774963, -0.9863559007644653]\n",
      "inception4e.branch2.0.conv.weight [0.9873191714286804, -0.9936815500259399]\n",
      "inception4e.branch2.1.conv.weight [0.3925004303455353, -0.47450560331344604]\n",
      "inception4e.branch3.0.conv.weight [0.9704440236091614, -1.0043355226516724]\n",
      "inception4e.branch3.1.conv.weight [0.2782454192638397, -0.3075410723686218]\n",
      "inception4e.branch4.1.conv.weight [0.3631312847137451, -0.43153026700019836]\n",
      "inception5a.branch1.conv.weight [0.9880013465881348, -1.0078692436218262]\n",
      "inception5a.branch2.0.conv.weight [0.9331108927726746, -0.9865301847457886]\n",
      "inception5a.branch2.1.conv.weight [0.11783932149410248, -0.152696892619133]\n",
      "inception5a.branch3.0.conv.weight [0.9977684617042542, -1.0005775690078735]\n",
      "inception5a.branch3.1.conv.weight [0.09932152181863785, -0.20189625024795532]\n",
      "inception5a.branch4.1.conv.weight [0.38362187147140503, -0.5292237401008606]\n",
      "inception5b.branch1.conv.weight [0.9340682029724121, -0.9846829771995544]\n",
      "inception5b.branch2.0.conv.weight [1.0093411207199097, -1.0284736156463623]\n",
      "inception5b.branch2.1.conv.weight [0.306190550327301, -0.46390044689178467]\n",
      "inception5b.branch3.0.conv.weight [0.9499698281288147, -0.9607036709785461]\n",
      "inception5b.branch3.1.conv.weight [0.2837589383125305, -0.37023770809173584]\n",
      "inception5b.branch4.1.conv.weight [0.28946495056152344, -0.4989739954471588]\n",
      "fc.weight [0.9498177170753479, -1.0372591018676758]\n",
      "fc.bias [0.8830969929695129, -1.2209237813949585]\n",
      "\n",
      "original weights of each layer with max and min : \n",
      "\n",
      "conv1.conv.weight [0.54824298620224, -0.46759071946144104]\n",
      "conv2.conv.weight [0.43491417169570923, -0.6360942721366882]\n",
      "conv3.conv.weight [0.5546669363975525, -0.7308090925216675]\n",
      "inception3a.branch1.conv.weight [0.5850709080696106, -0.688705325126648]\n",
      "inception3a.branch2.0.conv.weight [0.4967634081840515, -0.5760646462440491]\n",
      "inception3a.branch2.1.conv.weight [0.5488383173942566, -0.6436828374862671]\n",
      "inception3a.branch3.0.conv.weight [0.4293797016143799, -0.477377712726593]\n",
      "inception3a.branch3.1.conv.weight [0.3866598904132843, -0.5379891991615295]\n",
      "inception3a.branch4.1.conv.weight [0.6094641089439392, -0.6753994226455688]\n",
      "inception3b.branch1.conv.weight [0.5871122479438782, -0.6350896954536438]\n",
      "inception3b.branch2.0.conv.weight [0.5126789808273315, -0.5946057438850403]\n",
      "inception3b.branch2.1.conv.weight [0.49949508905410767, -0.5699589848518372]\n",
      "inception3b.branch3.0.conv.weight [0.3877570927143097, -0.45229941606521606]\n",
      "inception3b.branch3.1.conv.weight [0.5323213934898376, -0.45490092039108276]\n",
      "inception3b.branch4.1.conv.weight [0.44629713892936707, -0.48386019468307495]\n",
      "inception4a.branch1.conv.weight [0.6469533443450928, -0.6794552803039551]\n",
      "inception4a.branch2.0.conv.weight [0.4722130000591278, -0.5145895481109619]\n",
      "inception4a.branch2.1.conv.weight [0.40084004402160645, -0.5189129114151001]\n",
      "inception4a.branch3.0.conv.weight [0.35021933913230896, -0.536424994468689]\n",
      "inception4a.branch3.1.conv.weight [0.24158023297786713, -0.2809627056121826]\n",
      "inception4a.branch4.1.conv.weight [0.40273863077163696, -0.5188469886779785]\n",
      "inception4b.branch1.conv.weight [0.3660770654678345, -0.5199899077415466]\n",
      "inception4b.branch2.0.conv.weight [0.38010847568511963, -0.32553526759147644]\n",
      "inception4b.branch2.1.conv.weight [0.3680616021156311, -0.35530543327331543]\n",
      "inception4b.branch3.0.conv.weight [0.26097458600997925, -0.2941373586654663]\n",
      "inception4b.branch3.1.conv.weight [0.2609291970729828, -0.23776009678840637]\n",
      "inception4b.branch4.1.conv.weight [0.3712874948978424, -0.285855770111084]\n",
      "inception4c.branch1.conv.weight [0.28651732206344604, -0.45533835887908936]\n",
      "inception4c.branch2.0.conv.weight [0.3405953347682953, -0.32044145464897156]\n",
      "inception4c.branch2.1.conv.weight [0.3704727590084076, -0.4829578995704651]\n",
      "inception4c.branch3.0.conv.weight [0.33667245507240295, -0.2651243507862091]\n",
      "inception4c.branch3.1.conv.weight [0.3047920763492584, -0.4278470575809479]\n",
      "inception4c.branch4.1.conv.weight [0.39812296628952026, -0.2046843320131302]\n",
      "inception4d.branch1.conv.weight [0.318668007850647, -0.36440134048461914]\n",
      "inception4d.branch2.0.conv.weight [0.3493371605873108, -0.4007425308227539]\n",
      "inception4d.branch2.1.conv.weight [0.3883521854877472, -0.6494465470314026]\n",
      "inception4d.branch3.0.conv.weight [0.3175739645957947, -0.33033546805381775]\n",
      "inception4d.branch3.1.conv.weight [0.2948456406593323, -0.3684150278568268]\n",
      "inception4d.branch4.1.conv.weight [0.2174401730298996, -0.5286508798599243]\n",
      "inception4e.branch1.conv.weight [0.3684729337692261, -0.6087886095046997]\n",
      "inception4e.branch2.0.conv.weight [0.38417282700538635, -0.4304977357387543]\n",
      "inception4e.branch2.1.conv.weight [0.37003186345100403, -0.4769946336746216]\n",
      "inception4e.branch3.0.conv.weight [0.25147339701652527, -0.27022260427474976]\n",
      "inception4e.branch3.1.conv.weight [0.27161723375320435, -0.2995825707912445]\n",
      "inception4e.branch4.1.conv.weight [0.37452390789985657, -0.42466074228286743]\n",
      "inception5a.branch1.conv.weight [0.3406810760498047, -0.47971490025520325]\n",
      "inception5a.branch2.0.conv.weight [0.17343755066394806, -0.1526532918214798]\n",
      "inception5a.branch2.1.conv.weight [0.11388333141803741, -0.15807045996189117]\n",
      "inception5a.branch3.0.conv.weight [0.2513386011123657, -0.24030372500419617]\n"
     ]
    },
    {
     "name": "stdout",
     "output_type": "stream",
     "text": [
      "inception5a.branch3.1.conv.weight [0.10134786367416382, -0.2038804292678833]\n",
      "inception5a.branch4.1.conv.weight [0.3864709138870239, -0.5267173051834106]\n",
      "inception5b.branch1.conv.weight [0.34445250034332275, -0.512086808681488]\n",
      "inception5b.branch2.0.conv.weight [0.38570284843444824, -0.47362080216407776]\n",
      "inception5b.branch2.1.conv.weight [0.3024969696998596, -0.45399174094200134]\n",
      "inception5b.branch3.0.conv.weight [0.24469639360904694, -0.3449726998806]\n",
      "inception5b.branch3.1.conv.weight [0.2837589383125305, -0.37023770809173584]\n",
      "inception5b.branch4.1.conv.weight [0.27858081459999084, -0.4989739954471588]\n",
      "fc.weight [0.29260414838790894, -1.4352339506149292]\n",
      "fc.bias [0.2798038125038147, -0.7701613306999207]\n"
     ]
    }
   ],
   "source": [
    "print(\"quantized weights of each layer with max and min : \\n\")\n",
    "for i,j in max_min_layers_q.items():\n",
    "    print(i,j)\n",
    "    \n",
    "print()\n",
    "\n",
    "print(\"original weights of each layer with max and min : \\n\")\n",
    "for i,j in max_min_layers_o.items():\n",
    "    print(i,j)\n"
   ]
  },
  {
   "cell_type": "code",
   "execution_count": 111,
   "metadata": {},
   "outputs": [],
   "source": [
    "f1 = open(\"logs/weights_ternary.txt\", \"w\")\n",
    "f2 = open(\"logs/weights_normal.txt\", \"w\")"
   ]
  },
  {
   "cell_type": "code",
   "execution_count": 112,
   "metadata": {},
   "outputs": [],
   "source": [
    "for i in list_q_freqs:\n",
    "    f1.write(str(i))\n",
    "    f1.write(\"\\n\")\n",
    "\n",
    "for i in list_o_freqs:\n",
    "    f2.write(str(i))\n",
    "    f2.write(\"\\n\")"
   ]
  },
  {
   "cell_type": "code",
   "execution_count": 113,
   "metadata": {},
   "outputs": [],
   "source": [
    "f1.close()\n",
    "f2.close()"
   ]
  }
 ],
 "metadata": {
  "kernelspec": {
   "display_name": "Python 3",
   "language": "python",
   "name": "python3"
  },
  "language_info": {
   "codemirror_mode": {
    "name": "ipython",
    "version": 3
   },
   "file_extension": ".py",
   "mimetype": "text/x-python",
   "name": "python",
   "nbconvert_exporter": "python",
   "pygments_lexer": "ipython3",
   "version": "3.7.3"
  }
 },
 "nbformat": 4,
 "nbformat_minor": 2
}
